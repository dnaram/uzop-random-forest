{
 "cells": [
  {
   "cell_type": "markdown",
   "id": "3c6ad8b9",
   "metadata": {},
   "source": [
    "# Introduction to Data Science\n",
    "\n",
    "## Project: Global Refinement of Random Forest\n",
    "\n",
    "### 1. Introduction\n",
    "\n",
    "This Juptyer Notebook is used as part of Introduction to Data Science course's project task which will present the Global Refinement of Random Forest (https://openaccess.thecvf.com/content_cvpr_2015/papers/Ren_Global_Refinement_of_2015_CVPR_paper.pdf) by Shaoqing Ren et al. In the first part of the project proposed approach from the given paper will be evaluated on standard machine learning tasks:\n",
    "- MNIST: https://archive.ics.uci.edu/ml/machine-learning-databases/mnist-mld/\n",
    "- covtype: https://archive.ics.uci.edu/ml/machine-learning-databases/covtype/\n",
    "\n",
    "for classification and:\n",
    "- abalone\n",
    "- ailerons\n",
    "\n",
    "for regression problems.\n",
    "\n",
    "Later on, the evaluation of the proposed approach will be made on the real world application - namely the one solving the classification problem."
   ]
  },
  {
   "cell_type": "markdown",
   "id": "f2c6f682",
   "metadata": {},
   "source": [
    "### 2. Standard machine learning tasks"
   ]
  },
  {
   "cell_type": "markdown",
   "id": "00e7f701",
   "metadata": {},
   "source": [
    "### 2.1 Classification: MNIST "
   ]
  },
  {
   "cell_type": "markdown",
   "id": "f2bc9f41",
   "metadata": {},
   "source": [
    "Since it will be used for MNIST dataset import from already prepared sources which keras.datasets offers it is necessary to include `tensorflow` library by simply commenting out the next code cell and executing it."
   ]
  },
  {
   "cell_type": "code",
   "execution_count": 1,
   "id": "8fd539d7",
   "metadata": {},
   "outputs": [],
   "source": [
    "# pip install tensorflow"
   ]
  },
  {
   "cell_type": "markdown",
   "id": "f9e85495",
   "metadata": {},
   "source": [
    "Here are listed all imports which are going to be used later in the code. It is always possible to return back here later in case that you want to add some others or remove existing ones. "
   ]
  },
  {
   "cell_type": "code",
   "execution_count": 2,
   "id": "ca2fc246",
   "metadata": {},
   "outputs": [],
   "source": [
    "import matplotlib.pyplot as plt\n",
    "import math\n",
    "import numpy as np\n",
    "import pandas as pd\n",
    "\n",
    "from sklearn.metrics import zero_one_loss\n",
    "from sklearn.metrics import hinge_loss\n",
    "from sklearn.ensemble import RandomForestClassifier\n",
    "from sklearn.metrics import mean_squared_error\n",
    "from sklearn.model_selection import train_test_split\n",
    "from sklearn.ensemble import RandomForestRegressor\n",
    "from sklearn.metrics import mean_squared_error\n",
    "\n",
    "from utils.RefinedRandomForest import RefinedRandomForest"
   ]
  },
  {
   "cell_type": "markdown",
   "id": "4cc5eda8",
   "metadata": {},
   "source": [
    "Here comes the importing dataset part. Since it is fairly common MNIST dataset is already present in large share of different libraries - in this case keras.dataset module will be used to importing. For some other dataset used later in the project this will not be the case, so the dataset will have to be downloaded locally and imported from there."
   ]
  },
  {
   "cell_type": "code",
   "execution_count": 3,
   "id": "22410b22",
   "metadata": {},
   "outputs": [],
   "source": [
    "from keras.datasets import mnist\n",
    "(X_train, y_train), (X_test, y_test) = mnist.load_data()\n",
    "\n",
    "X_train = X_train.reshape((60000,784))\n",
    "X_test = X_test.reshape((10000,784))\n",
    "\n",
    "X = np.concatenate((X_train, X_test), axis=0)\n",
    "y = np.concatenate((y_train, y_test), axis=0)"
   ]
  },
  {
   "cell_type": "code",
   "execution_count": 4,
   "id": "030ebb76",
   "metadata": {},
   "outputs": [
    {
     "name": "stdout",
     "output_type": "stream",
     "text": [
      "Number of train examples: 60000\n",
      "Number of test examples: 10000\n",
      "Number of features: 784\n",
      "Number of classes: 10\n"
     ]
    }
   ],
   "source": [
    "print(f'Number of train examples: {X_train.shape[0]}')\n",
    "print(f'Number of test examples: {y_test.shape[0]}')\n",
    "print(f'Number of features: {len(X_train[0])}')\n",
    "print(f'Number of classes: {len(np.unique(y_test))}')"
   ]
  },
  {
   "cell_type": "code",
   "execution_count": 5,
   "id": "d4dcaed6",
   "metadata": {},
   "outputs": [
    {
     "data": {
      "image/png": "[encoded data removed]",
      "text/plain": [
       "<Figure size 432x288 with 9 Axes>"
      ]
     },
     "metadata": {
      "needs_background": "light"
     },
     "output_type": "display_data"
    }
   ],
   "source": [
    "for i in range(9):  \n",
    "    plt.subplot(330 + 1 + i)\n",
    "    plt.imshow(np.array(X_train[i]).reshape((28,28)), cmap=plt.get_cmap('gray'))\n",
    "plt.show()"
   ]
  },
  {
   "cell_type": "markdown",
   "id": "467e28c4",
   "metadata": {},
   "source": [
    "After reviewing the MNIST dataset it is now time to train Random Forest Classifier on the given data and try the proposed approach from the paper. For that reason, `run_classification_experiment` function is defined to train the given model on training dataset and return zero-one loss calculated on testing dataset."
   ]
  },
  {
   "cell_type": "code",
   "execution_count": 6,
   "id": "23962a6b",
   "metadata": {},
   "outputs": [],
   "source": [
    "def run_classification_experiment(model, X_train, y_train, X_test, y_test):\n",
    "    model.fit(X_train, y_train)\n",
    "    \n",
    "    y_pred = model.predict(X_test)\n",
    "    loss = zero_one_loss(y_test, y_pred)\n",
    "\n",
    "    return loss"
   ]
  },
  {
   "cell_type": "code",
   "execution_count": 7,
   "id": "1d75d4ed",
   "metadata": {},
   "outputs": [
    {
     "name": "stdout",
     "output_type": "stream",
     "text": [
      "Regular Random Forest Classifier\n",
      "Average error: 0.032799999999999996\n",
      "Standard deviation: 0.0013000000000000234\n",
      "Refined Random Forest Classifier\n",
      "Average error: 0.0257\n",
      "Standard deviation: 0.0007999999999999674\n"
     ]
    }
   ],
   "source": [
    "ITER = 2\n",
    "\n",
    "errors_rfc = []\n",
    "errors_rrf = []\n",
    "\n",
    "for iter in range(ITER):\n",
    "    # split data into training and testing dataset\n",
    "    X_train, X_test, y_train, y_test = train_test_split(X, y, test_size=10000)\n",
    "    \n",
    "    # train regular RandomForestClassifier\n",
    "    rfc = RandomForestClassifier(n_estimators=100, min_samples_split=5, max_features='sqrt')\n",
    "    error_rfc = run_classification_experiment(rfc, X_train, y_train, X_test, y_test)\n",
    "    \n",
    "    # train refined RandomForestClassifier\n",
    "    rrf = RefinedRandomForest(rfc, C = 0.01, n_prunings = 0)\n",
    "    error_rrf = run_classification_experiment(rrf, X_train, y_train, X_test, y_test)\n",
    "    \n",
    "    # save errors for both models\n",
    "    errors_rfc.append(error_rfc)\n",
    "    errors_rrf.append(error_rrf)\n",
    "\n",
    "average_error_rfc = sum(errors_rfc)/ITER\n",
    "standard_deviation_rfc = np.std(errors_rfc)\n",
    "\n",
    "average_error_rrf = sum(errors_rrf)/ITER\n",
    "standard_deviation_rrf = np.std(errors_rrf)\n",
    "\n",
    "print('Regular Random Forest Classifier')\n",
    "print(f'Average error: {average_error_rfc}')\n",
    "print(f'Standard deviation: {standard_deviation_rfc}')\n",
    "\n",
    "print('Refined Random Forest Classifier')\n",
    "print(f'Average error: {average_error_rrf}')\n",
    "print(f'Standard deviation: {standard_deviation_rrf}')\n",
    "\n",
    "print(f'Compression Ratio: {rfc.n_leaves_/nleaves[-1]}')"
   ]
  },
  {
   "cell_type": "code",
   "execution_count": 8,
   "id": "f17641ae",
   "metadata": {},
   "outputs": [
    {
     "name": "stdout",
     "output_type": "stream",
     "text": [
      "Pruning 01: train loss 0.0000, test loss 0.0262\n",
      "Pruning 02: train loss 0.0000, test loss 0.0264\n",
      "Pruning 03: train loss 0.0000, test loss 0.0258\n",
      "Pruning 04: train loss 0.0000, test loss 0.0252\n",
      "Pruning 05: train loss 0.0000, test loss 0.0248\n",
      "Pruning 06: train loss 0.0000, test loss 0.0239\n",
      "Pruning 07: train loss 0.0000, test loss 0.0240\n",
      "Pruning 08: train loss 0.0000, test loss 0.0238\n",
      "Pruning 09: train loss 0.0000, test loss 0.0245\n",
      "Pruning 10: train loss 0.0001, test loss 0.0240\n",
      "Pruning 11: train loss 0.0002, test loss 0.0234\n",
      "Pruning 12: train loss 0.0002, test loss 0.0236\n",
      "Pruning 13: train loss 0.0004, test loss 0.0233\n",
      "Pruning 14: train loss 0.0004, test loss 0.0229\n",
      "Pruning 15: train loss 0.0004, test loss 0.0228\n",
      "Pruning 16: train loss 0.0006, test loss 0.0232\n",
      "Pruning 17: train loss 0.0007, test loss 0.0230\n",
      "Pruning 18: train loss 0.0009, test loss 0.0225\n",
      "Pruning 19: train loss 0.0010, test loss 0.0236\n",
      "Pruning 20: train loss 0.0012, test loss 0.0238\n",
      "Pruning 21: train loss 0.0014, test loss 0.0230\n",
      "Pruning 22: train loss 0.0018, test loss 0.0239\n",
      "Pruning 23: train loss 0.0021, test loss 0.0250\n",
      "Pruning 24: train loss 0.0024, test loss 0.0254\n",
      "Pruning 25: train loss 0.0027, test loss 0.0248\n",
      "Pruning 26: train loss 0.0029, test loss 0.0254\n",
      "Pruning 27: train loss 0.0034, test loss 0.0263\n",
      "Pruning 28: train loss 0.0038, test loss 0.0270\n",
      "Pruning 29: train loss 0.0042, test loss 0.0274\n",
      "Pruning 30: train loss 0.0050, test loss 0.0287\n",
      "Pruning 31: train loss 0.0058, test loss 0.0280\n",
      "Pruning 32: train loss 0.0070, test loss 0.0288\n",
      "Pruning 33: train loss 0.0080, test loss 0.0290\n",
      "Pruning 34: train loss 0.0091, test loss 0.0297\n",
      "Pruning 35: train loss 0.0102, test loss 0.0301\n",
      "Pruning 36: train loss 0.0113, test loss 0.0306\n",
      "Pruning 37: train loss 0.0120, test loss 0.0312\n",
      "Pruning 38: train loss 0.0136, test loss 0.0324\n",
      "Pruning 39: train loss 0.0145, test loss 0.0347\n"
     ]
    }
   ],
   "source": [
    "rrf.n_prunings = 1 # do one pruning in each iteration\n",
    "trainloss = []\n",
    "testloss = []\n",
    "nleaves = [sum(rrf.n_leaves_)] # remember number of leaves in each iteration\n",
    "for k in range(100):\n",
    "    rrf.fit(X_train, y_train) # fit and do 1 pruning\n",
    "    loss4tr = zero_one_loss(y_train, rrf.predict(X_train))\n",
    "    loss4te = zero_one_loss(y_test, rrf.predict(X_test))\n",
    "    trainloss.append(loss4tr)\n",
    "    testloss.append(loss4te)\n",
    "    nleaves.append(sum(rrf.n_leaves_))\n",
    "    print(\"Pruning {:02d}: train loss {:.4f}, test loss {:.4f}\".format(k+1, loss4tr, loss4te))\n",
    "    if loss4te > average_error_rfc:\n",
    "        break # stop when test error increases too much\n"
   ]
  },
  {
   "cell_type": "code",
   "execution_count": 21,
   "id": "c5f9b245",
   "metadata": {},
   "outputs": [
    {
     "data": {
      "image/png": "[encoded data removed]",
      "text/plain": [
       "<Figure size 432x288 with 1 Axes>"
      ]
     },
     "metadata": {
      "needs_background": "light"
     },
     "output_type": "display_data"
    },
    {
     "name": "stdout",
     "output_type": "stream",
     "text": [
      "Compression Ratio: 60.85018050541516\n"
     ]
    }
   ],
   "source": [
    "plt.plot(np.arange(len(nleaves)), nleaves, label='number of leaves')\n",
    "\n",
    "plt.legend(loc='best')\n",
    "plt.show()\n",
    "\n",
    "print(f'Compression Ratio: {nleaves[0]/nleaves[-1]}')"
   ]
  },
  {
   "cell_type": "code",
   "execution_count": 18,
   "id": "5d50c4e7",
   "metadata": {},
   "outputs": [
    {
     "data": {
      "image/png": "[encoded data removed]",
      "text/plain": [
       "<Figure size 432x288 with 1 Axes>"
      ]
     },
     "metadata": {
      "needs_background": "light"
     },
     "output_type": "display_data"
    }
   ],
   "source": [
    "plt.plot(np.arange(len(trainloss)), trainloss, label='train loss')\n",
    "plt.plot(np.arange(len(testloss)), testloss, label='test loss')\n",
    "\n",
    "plt.legend(loc='best')\n",
    "plt.show()"
   ]
  },
  {
   "cell_type": "markdown",
   "id": "12439a0c",
   "metadata": {},
   "source": [
    "After running these experiments it is visible that error drops when refined random forest fitted to the given MNIST datasets. It is also possible to execute pruning process on pre-trained random forest model to save space by reducing total number of leaves keeping the accuracy approximately equal. "
   ]
  },
  {
   "cell_type": "markdown",
   "id": "8d7659c2",
   "metadata": {},
   "source": [
    "### 2.2 Classification: covtype "
   ]
  },
  {
   "cell_type": "markdown",
   "id": "2281bf42",
   "metadata": {},
   "source": [
    "This is the second example solving the classification problem and it includes predicting forest cover type from cartographic variables only (no remotely sensed data). The workflow is standard: \n",
    "1. importing given covtype dataset\n",
    "2. training standard random forest classifier\n",
    "3. training refined random forest classifier\n",
    "4. pruning refined random forest classifier\n",
    "\n",
    "Since this dataset is not accessible for import using standard libraries such as keras it will previously be downloaded from the source given in the **Introduction** and then read using common `read_csv` funtion from `pandas` library."
   ]
  },
  {
   "cell_type": "code",
   "execution_count": 9,
   "id": "0dbcdcc3",
   "metadata": {},
   "outputs": [
    {
     "data": {
      "text/html": [
       "<div>\n",
       "<style scoped>\n",
       "    .dataframe tbody tr th:only-of-type {\n",
       "        vertical-align: middle;\n",
       "    }\n",
       "\n",
       "    .dataframe tbody tr th {\n",
       "        vertical-align: top;\n",
       "    }\n",
       "\n",
       "    .dataframe thead th {\n",
       "        text-align: right;\n",
       "    }\n",
       "</style>\n",
       "<table border=\"1\" class=\"dataframe\">\n",
       "  <thead>\n",
       "    <tr style=\"text-align: right;\">\n",
       "      <th></th>\n",
       "      <th>Elevation</th>\n",
       "      <th>Aspect</th>\n",
       "      <th>Slope</th>\n",
       "      <th>Horizontal_Distance_To_Hydrology</th>\n",
       "      <th>Vertical_Distance_To_Hydrology</th>\n",
       "      <th>Horizontal_Distance_To_Roadways</th>\n",
       "      <th>Hillshade_9am</th>\n",
       "      <th>Hillshade_Noon</th>\n",
       "      <th>Hillshade_3pm</th>\n",
       "      <th>Horizontal_Distance_To_Fire_Points</th>\n",
       "      <th>...</th>\n",
       "      <th>Soil_Type32</th>\n",
       "      <th>Soil_Type33</th>\n",
       "      <th>Soil_Type34</th>\n",
       "      <th>Soil_Type35</th>\n",
       "      <th>Soil_Type36</th>\n",
       "      <th>Soil_Type37</th>\n",
       "      <th>Soil_Type38</th>\n",
       "      <th>Soil_Type39</th>\n",
       "      <th>Soil_Type40</th>\n",
       "      <th>Cover_Type</th>\n",
       "    </tr>\n",
       "  </thead>\n",
       "  <tbody>\n",
       "    <tr>\n",
       "      <th>0</th>\n",
       "      <td>2596</td>\n",
       "      <td>51</td>\n",
       "      <td>3</td>\n",
       "      <td>258</td>\n",
       "      <td>0</td>\n",
       "      <td>510</td>\n",
       "      <td>221</td>\n",
       "      <td>232</td>\n",
       "      <td>148</td>\n",
       "      <td>6279</td>\n",
       "      <td>...</td>\n",
       "      <td>0</td>\n",
       "      <td>0</td>\n",
       "      <td>0</td>\n",
       "      <td>0</td>\n",
       "      <td>0</td>\n",
       "      <td>0</td>\n",
       "      <td>0</td>\n",
       "      <td>0</td>\n",
       "      <td>0</td>\n",
       "      <td>5</td>\n",
       "    </tr>\n",
       "    <tr>\n",
       "      <th>1</th>\n",
       "      <td>2590</td>\n",
       "      <td>56</td>\n",
       "      <td>2</td>\n",
       "      <td>212</td>\n",
       "      <td>-6</td>\n",
       "      <td>390</td>\n",
       "      <td>220</td>\n",
       "      <td>235</td>\n",
       "      <td>151</td>\n",
       "      <td>6225</td>\n",
       "      <td>...</td>\n",
       "      <td>0</td>\n",
       "      <td>0</td>\n",
       "      <td>0</td>\n",
       "      <td>0</td>\n",
       "      <td>0</td>\n",
       "      <td>0</td>\n",
       "      <td>0</td>\n",
       "      <td>0</td>\n",
       "      <td>0</td>\n",
       "      <td>5</td>\n",
       "    </tr>\n",
       "    <tr>\n",
       "      <th>2</th>\n",
       "      <td>2804</td>\n",
       "      <td>139</td>\n",
       "      <td>9</td>\n",
       "      <td>268</td>\n",
       "      <td>65</td>\n",
       "      <td>3180</td>\n",
       "      <td>234</td>\n",
       "      <td>238</td>\n",
       "      <td>135</td>\n",
       "      <td>6121</td>\n",
       "      <td>...</td>\n",
       "      <td>0</td>\n",
       "      <td>0</td>\n",
       "      <td>0</td>\n",
       "      <td>0</td>\n",
       "      <td>0</td>\n",
       "      <td>0</td>\n",
       "      <td>0</td>\n",
       "      <td>0</td>\n",
       "      <td>0</td>\n",
       "      <td>2</td>\n",
       "    </tr>\n",
       "    <tr>\n",
       "      <th>3</th>\n",
       "      <td>2785</td>\n",
       "      <td>155</td>\n",
       "      <td>18</td>\n",
       "      <td>242</td>\n",
       "      <td>118</td>\n",
       "      <td>3090</td>\n",
       "      <td>238</td>\n",
       "      <td>238</td>\n",
       "      <td>122</td>\n",
       "      <td>6211</td>\n",
       "      <td>...</td>\n",
       "      <td>0</td>\n",
       "      <td>0</td>\n",
       "      <td>0</td>\n",
       "      <td>0</td>\n",
       "      <td>0</td>\n",
       "      <td>0</td>\n",
       "      <td>0</td>\n",
       "      <td>0</td>\n",
       "      <td>0</td>\n",
       "      <td>2</td>\n",
       "    </tr>\n",
       "    <tr>\n",
       "      <th>4</th>\n",
       "      <td>2595</td>\n",
       "      <td>45</td>\n",
       "      <td>2</td>\n",
       "      <td>153</td>\n",
       "      <td>-1</td>\n",
       "      <td>391</td>\n",
       "      <td>220</td>\n",
       "      <td>234</td>\n",
       "      <td>150</td>\n",
       "      <td>6172</td>\n",
       "      <td>...</td>\n",
       "      <td>0</td>\n",
       "      <td>0</td>\n",
       "      <td>0</td>\n",
       "      <td>0</td>\n",
       "      <td>0</td>\n",
       "      <td>0</td>\n",
       "      <td>0</td>\n",
       "      <td>0</td>\n",
       "      <td>0</td>\n",
       "      <td>5</td>\n",
       "    </tr>\n",
       "  </tbody>\n",
       "</table>\n",
       "<p>5 rows × 55 columns</p>\n",
       "</div>"
      ],
      "text/plain": [
       "   Elevation  Aspect  Slope  Horizontal_Distance_To_Hydrology  \\\n",
       "0       2596      51      3                               258   \n",
       "1       2590      56      2                               212   \n",
       "2       2804     139      9                               268   \n",
       "3       2785     155     18                               242   \n",
       "4       2595      45      2                               153   \n",
       "\n",
       "   Vertical_Distance_To_Hydrology  Horizontal_Distance_To_Roadways  \\\n",
       "0                               0                              510   \n",
       "1                              -6                              390   \n",
       "2                              65                             3180   \n",
       "3                             118                             3090   \n",
       "4                              -1                              391   \n",
       "\n",
       "   Hillshade_9am  Hillshade_Noon  Hillshade_3pm  \\\n",
       "0            221             232            148   \n",
       "1            220             235            151   \n",
       "2            234             238            135   \n",
       "3            238             238            122   \n",
       "4            220             234            150   \n",
       "\n",
       "   Horizontal_Distance_To_Fire_Points  ...  Soil_Type32  Soil_Type33  \\\n",
       "0                                6279  ...            0            0   \n",
       "1                                6225  ...            0            0   \n",
       "2                                6121  ...            0            0   \n",
       "3                                6211  ...            0            0   \n",
       "4                                6172  ...            0            0   \n",
       "\n",
       "   Soil_Type34  Soil_Type35  Soil_Type36  Soil_Type37  Soil_Type38  \\\n",
       "0            0            0            0            0            0   \n",
       "1            0            0            0            0            0   \n",
       "2            0            0            0            0            0   \n",
       "3            0            0            0            0            0   \n",
       "4            0            0            0            0            0   \n",
       "\n",
       "   Soil_Type39  Soil_Type40  Cover_Type  \n",
       "0            0            0           5  \n",
       "1            0            0           5  \n",
       "2            0            0           2  \n",
       "3            0            0           2  \n",
       "4            0            0           5  \n",
       "\n",
       "[5 rows x 55 columns]"
      ]
     },
     "execution_count": 9,
     "metadata": {},
     "output_type": "execute_result"
    }
   ],
   "source": [
    "column_headers = pd.read_csv('./covtype/train.csv').columns[1:]\n",
    "trees = pd.read_csv(\"./covtype/covtype.data\", sep=\",\", header=None, names=column_headers)\n",
    "trees.head()"
   ]
  },
  {
   "cell_type": "code",
   "execution_count": 10,
   "id": "856697c0",
   "metadata": {},
   "outputs": [
    {
     "ename": "KeyboardInterrupt",
     "evalue": "",
     "output_type": "error",
     "traceback": [
      "\u001b[1;31m---------------------------------------------------------------------------\u001b[0m",
      "\u001b[1;31mKeyboardInterrupt\u001b[0m                         Traceback (most recent call last)",
      "\u001b[1;32m<ipython-input-10-664f9a2c3130>\u001b[0m in \u001b[0;36m<module>\u001b[1;34m\u001b[0m\n\u001b[0;32m     13\u001b[0m \u001b[1;33m\u001b[0m\u001b[0m\n\u001b[0;32m     14\u001b[0m     \u001b[1;31m# train refined RandomForestClassifier\u001b[0m\u001b[1;33m\u001b[0m\u001b[1;33m\u001b[0m\u001b[1;33m\u001b[0m\u001b[0m\n\u001b[1;32m---> 15\u001b[1;33m     \u001b[0mrrf\u001b[0m \u001b[1;33m=\u001b[0m \u001b[0mRefinedRandomForest\u001b[0m\u001b[1;33m(\u001b[0m\u001b[0mrfc\u001b[0m\u001b[1;33m,\u001b[0m \u001b[0mC\u001b[0m \u001b[1;33m=\u001b[0m \u001b[1;36m0.01\u001b[0m\u001b[1;33m,\u001b[0m \u001b[0mn_prunings\u001b[0m \u001b[1;33m=\u001b[0m \u001b[1;36m0\u001b[0m\u001b[1;33m)\u001b[0m\u001b[1;33m\u001b[0m\u001b[1;33m\u001b[0m\u001b[0m\n\u001b[0m\u001b[0;32m     16\u001b[0m     \u001b[0merror_rrf\u001b[0m \u001b[1;33m=\u001b[0m \u001b[0mrun_classification_experiment\u001b[0m\u001b[1;33m(\u001b[0m\u001b[0mrrf\u001b[0m\u001b[1;33m,\u001b[0m \u001b[0mX_train\u001b[0m\u001b[1;33m,\u001b[0m \u001b[0my_train\u001b[0m\u001b[1;33m,\u001b[0m \u001b[0mX_test\u001b[0m\u001b[1;33m,\u001b[0m \u001b[0my_test\u001b[0m\u001b[1;33m)\u001b[0m\u001b[1;33m\u001b[0m\u001b[1;33m\u001b[0m\u001b[0m\n\u001b[0;32m     17\u001b[0m \u001b[1;33m\u001b[0m\u001b[0m\n",
      "\u001b[1;32m~\\faks\\Uvod u znanost o podacima\\labosi\\utils\\RefinedRandomForest.py\u001b[0m in \u001b[0;36m__init__\u001b[1;34m(self, rf, C, prune_pct, n_prunings, criterion)\u001b[0m\n\u001b[0;32m     15\u001b[0m         \u001b[0mself\u001b[0m\u001b[1;33m.\u001b[0m\u001b[0mn_prunings\u001b[0m \u001b[1;33m=\u001b[0m \u001b[0mn_prunings\u001b[0m\u001b[1;33m\u001b[0m\u001b[1;33m\u001b[0m\u001b[0m\n\u001b[0;32m     16\u001b[0m         \u001b[0mself\u001b[0m\u001b[1;33m.\u001b[0m\u001b[0mcriterion\u001b[0m \u001b[1;33m=\u001b[0m \u001b[0mcriterion\u001b[0m\u001b[1;33m\u001b[0m\u001b[1;33m\u001b[0m\u001b[0m\n\u001b[1;32m---> 17\u001b[1;33m         \u001b[0mself\u001b[0m\u001b[1;33m.\u001b[0m\u001b[0mtrees_\u001b[0m \u001b[1;33m=\u001b[0m \u001b[1;33m[\u001b[0m\u001b[0mTreeStruct\u001b[0m\u001b[1;33m(\u001b[0m\u001b[0mtree\u001b[0m\u001b[1;33m.\u001b[0m\u001b[0mtree_\u001b[0m\u001b[1;33m)\u001b[0m \u001b[1;32mfor\u001b[0m \u001b[0mtree\u001b[0m \u001b[1;32min\u001b[0m \u001b[0mrf\u001b[0m\u001b[1;33m.\u001b[0m\u001b[0mestimators_\u001b[0m\u001b[1;33m]\u001b[0m \u001b[1;31m# create TreeWrapper around every estimator tree\u001b[0m\u001b[1;33m\u001b[0m\u001b[1;33m\u001b[0m\u001b[0m\n\u001b[0m\u001b[0;32m     18\u001b[0m         \u001b[0mself\u001b[0m\u001b[1;33m.\u001b[0m\u001b[0mleaves\u001b[0m\u001b[1;33m(\u001b[0m\u001b[1;33m)\u001b[0m\u001b[1;33m\u001b[0m\u001b[1;33m\u001b[0m\u001b[0m\n\u001b[0;32m     19\u001b[0m \u001b[1;33m\u001b[0m\u001b[0m\n",
      "\u001b[1;32m~\\faks\\Uvod u znanost o podacima\\labosi\\utils\\RefinedRandomForest.py\u001b[0m in \u001b[0;36m<listcomp>\u001b[1;34m(.0)\u001b[0m\n\u001b[0;32m     15\u001b[0m         \u001b[0mself\u001b[0m\u001b[1;33m.\u001b[0m\u001b[0mn_prunings\u001b[0m \u001b[1;33m=\u001b[0m \u001b[0mn_prunings\u001b[0m\u001b[1;33m\u001b[0m\u001b[1;33m\u001b[0m\u001b[0m\n\u001b[0;32m     16\u001b[0m         \u001b[0mself\u001b[0m\u001b[1;33m.\u001b[0m\u001b[0mcriterion\u001b[0m \u001b[1;33m=\u001b[0m \u001b[0mcriterion\u001b[0m\u001b[1;33m\u001b[0m\u001b[1;33m\u001b[0m\u001b[0m\n\u001b[1;32m---> 17\u001b[1;33m         \u001b[0mself\u001b[0m\u001b[1;33m.\u001b[0m\u001b[0mtrees_\u001b[0m \u001b[1;33m=\u001b[0m \u001b[1;33m[\u001b[0m\u001b[0mTreeStruct\u001b[0m\u001b[1;33m(\u001b[0m\u001b[0mtree\u001b[0m\u001b[1;33m.\u001b[0m\u001b[0mtree_\u001b[0m\u001b[1;33m)\u001b[0m \u001b[1;32mfor\u001b[0m \u001b[0mtree\u001b[0m \u001b[1;32min\u001b[0m \u001b[0mrf\u001b[0m\u001b[1;33m.\u001b[0m\u001b[0mestimators_\u001b[0m\u001b[1;33m]\u001b[0m \u001b[1;31m# create TreeWrapper around every estimator tree\u001b[0m\u001b[1;33m\u001b[0m\u001b[1;33m\u001b[0m\u001b[0m\n\u001b[0m\u001b[0;32m     18\u001b[0m         \u001b[0mself\u001b[0m\u001b[1;33m.\u001b[0m\u001b[0mleaves\u001b[0m\u001b[1;33m(\u001b[0m\u001b[1;33m)\u001b[0m\u001b[1;33m\u001b[0m\u001b[1;33m\u001b[0m\u001b[0m\n\u001b[0;32m     19\u001b[0m \u001b[1;33m\u001b[0m\u001b[0m\n",
      "\u001b[1;32m~\\faks\\Uvod u znanost o podacima\\labosi\\utils\\TreeWrapper.py\u001b[0m in \u001b[0;36m__init__\u001b[1;34m(self, tree)\u001b[0m\n\u001b[0;32m     19\u001b[0m         \u001b[0mself\u001b[0m\u001b[1;33m.\u001b[0m\u001b[0mchildren_right\u001b[0m \u001b[1;33m=\u001b[0m \u001b[0mtree\u001b[0m\u001b[1;33m.\u001b[0m\u001b[0mchildren_right\u001b[0m\u001b[1;33m\u001b[0m\u001b[1;33m\u001b[0m\u001b[0m\n\u001b[0;32m     20\u001b[0m         \u001b[0mself\u001b[0m\u001b[1;33m.\u001b[0m\u001b[0mvalue\u001b[0m \u001b[1;33m=\u001b[0m \u001b[0mtree\u001b[0m\u001b[1;33m.\u001b[0m\u001b[0mvalue\u001b[0m\u001b[1;33m\u001b[0m\u001b[1;33m\u001b[0m\u001b[0m\n\u001b[1;32m---> 21\u001b[1;33m         \u001b[0mself\u001b[0m\u001b[1;33m.\u001b[0m\u001b[0mupdate_leaves\u001b[0m\u001b[1;33m(\u001b[0m\u001b[1;33m)\u001b[0m \u001b[1;31m# collect additional information about tree structure related to leaves\u001b[0m\u001b[1;33m\u001b[0m\u001b[1;33m\u001b[0m\u001b[0m\n\u001b[0m\u001b[0;32m     22\u001b[0m \u001b[1;33m\u001b[0m\u001b[0m\n\u001b[0;32m     23\u001b[0m     \u001b[1;32mdef\u001b[0m \u001b[0mupdate_leaves\u001b[0m\u001b[1;33m(\u001b[0m\u001b[0mself\u001b[0m\u001b[1;33m)\u001b[0m\u001b[1;33m:\u001b[0m\u001b[1;33m\u001b[0m\u001b[1;33m\u001b[0m\u001b[0m\n",
      "\u001b[1;32m~\\faks\\Uvod u znanost o podacima\\labosi\\utils\\TreeWrapper.py\u001b[0m in \u001b[0;36mupdate_leaves\u001b[1;34m(self)\u001b[0m\n\u001b[0;32m     32\u001b[0m         \u001b[1;31m#               leaves         = [2,4,5,7,8]\u001b[0m\u001b[1;33m\u001b[0m\u001b[1;33m\u001b[0m\u001b[1;33m\u001b[0m\u001b[0m\n\u001b[0;32m     33\u001b[0m         \u001b[1;31m#          then leaf_siblings  = [3,5,4,8,7]\u001b[0m\u001b[1;33m\u001b[0m\u001b[1;33m\u001b[0m\u001b[1;33m\u001b[0m\u001b[0m\n\u001b[1;32m---> 34\u001b[1;33m         \u001b[0mself\u001b[0m\u001b[1;33m.\u001b[0m\u001b[0mleaf_siblings\u001b[0m \u001b[1;33m=\u001b[0m \u001b[0mnp\u001b[0m\u001b[1;33m.\u001b[0m\u001b[0marray\u001b[0m\u001b[1;33m(\u001b[0m\u001b[1;33m[\u001b[0m\u001b[0mself\u001b[0m\u001b[1;33m.\u001b[0m\u001b[0mfind_sibling_node\u001b[0m\u001b[1;33m(\u001b[0m\u001b[0mleaf\u001b[0m\u001b[1;33m)\u001b[0m \u001b[1;32mfor\u001b[0m \u001b[0mleaf\u001b[0m \u001b[1;32min\u001b[0m \u001b[0mself\u001b[0m\u001b[1;33m.\u001b[0m\u001b[0mleaves\u001b[0m\u001b[1;33m]\u001b[0m\u001b[1;33m)\u001b[0m\u001b[1;33m\u001b[0m\u001b[1;33m\u001b[0m\u001b[0m\n\u001b[0m\u001b[0;32m     35\u001b[0m \u001b[1;33m\u001b[0m\u001b[0m\n\u001b[0;32m     36\u001b[0m         \u001b[1;31m# define position of each node in leaves list (-1 if node is not leaf) and store it in leaf_position list\u001b[0m\u001b[1;33m\u001b[0m\u001b[1;33m\u001b[0m\u001b[1;33m\u001b[0m\u001b[0m\n",
      "\u001b[1;32m~\\faks\\Uvod u znanost o podacima\\labosi\\utils\\TreeWrapper.py\u001b[0m in \u001b[0;36m<listcomp>\u001b[1;34m(.0)\u001b[0m\n\u001b[0;32m     32\u001b[0m         \u001b[1;31m#               leaves         = [2,4,5,7,8]\u001b[0m\u001b[1;33m\u001b[0m\u001b[1;33m\u001b[0m\u001b[1;33m\u001b[0m\u001b[0m\n\u001b[0;32m     33\u001b[0m         \u001b[1;31m#          then leaf_siblings  = [3,5,4,8,7]\u001b[0m\u001b[1;33m\u001b[0m\u001b[1;33m\u001b[0m\u001b[1;33m\u001b[0m\u001b[0m\n\u001b[1;32m---> 34\u001b[1;33m         \u001b[0mself\u001b[0m\u001b[1;33m.\u001b[0m\u001b[0mleaf_siblings\u001b[0m \u001b[1;33m=\u001b[0m \u001b[0mnp\u001b[0m\u001b[1;33m.\u001b[0m\u001b[0marray\u001b[0m\u001b[1;33m(\u001b[0m\u001b[1;33m[\u001b[0m\u001b[0mself\u001b[0m\u001b[1;33m.\u001b[0m\u001b[0mfind_sibling_node\u001b[0m\u001b[1;33m(\u001b[0m\u001b[0mleaf\u001b[0m\u001b[1;33m)\u001b[0m \u001b[1;32mfor\u001b[0m \u001b[0mleaf\u001b[0m \u001b[1;32min\u001b[0m \u001b[0mself\u001b[0m\u001b[1;33m.\u001b[0m\u001b[0mleaves\u001b[0m\u001b[1;33m]\u001b[0m\u001b[1;33m)\u001b[0m\u001b[1;33m\u001b[0m\u001b[1;33m\u001b[0m\u001b[0m\n\u001b[0m\u001b[0;32m     35\u001b[0m \u001b[1;33m\u001b[0m\u001b[0m\n\u001b[0;32m     36\u001b[0m         \u001b[1;31m# define position of each node in leaves list (-1 if node is not leaf) and store it in leaf_position list\u001b[0m\u001b[1;33m\u001b[0m\u001b[1;33m\u001b[0m\u001b[1;33m\u001b[0m\u001b[0m\n",
      "\u001b[1;32m~\\faks\\Uvod u znanost o podacima\\labosi\\utils\\TreeWrapper.py\u001b[0m in \u001b[0;36mfind_sibling_node\u001b[1;34m(self, node)\u001b[0m\n\u001b[0;32m     50\u001b[0m \u001b[1;33m\u001b[0m\u001b[0m\n\u001b[0;32m     51\u001b[0m         \u001b[1;31m# try to find leaf in children_right\u001b[0m\u001b[1;33m\u001b[0m\u001b[1;33m\u001b[0m\u001b[1;33m\u001b[0m\u001b[0m\n\u001b[1;32m---> 52\u001b[1;33m         \u001b[0mright\u001b[0m \u001b[1;33m=\u001b[0m \u001b[0mnp\u001b[0m\u001b[1;33m.\u001b[0m\u001b[0mnonzero\u001b[0m\u001b[1;33m(\u001b[0m\u001b[1;33m(\u001b[0m\u001b[0mself\u001b[0m\u001b[1;33m.\u001b[0m\u001b[0mchildren_right\u001b[0m\u001b[1;33m==\u001b[0m\u001b[0mnode\u001b[0m\u001b[1;33m)\u001b[0m\u001b[1;33m)\u001b[0m\u001b[1;33m[\u001b[0m\u001b[1;36m0\u001b[0m\u001b[1;33m]\u001b[0m\u001b[1;33m\u001b[0m\u001b[1;33m\u001b[0m\u001b[0m\n\u001b[0m\u001b[0;32m     53\u001b[0m         \u001b[1;31m# this leaf is right child - add its left sibling to the list\u001b[0m\u001b[1;33m\u001b[0m\u001b[1;33m\u001b[0m\u001b[1;33m\u001b[0m\u001b[0m\n\u001b[0;32m     54\u001b[0m         \u001b[1;32mreturn\u001b[0m \u001b[0mself\u001b[0m\u001b[1;33m.\u001b[0m\u001b[0mchildren_left\u001b[0m\u001b[1;33m[\u001b[0m\u001b[0mright\u001b[0m\u001b[1;33m[\u001b[0m\u001b[1;36m0\u001b[0m\u001b[1;33m]\u001b[0m\u001b[1;33m]\u001b[0m\u001b[1;33m\u001b[0m\u001b[1;33m\u001b[0m\u001b[0m\n",
      "\u001b[1;31mKeyboardInterrupt\u001b[0m: "
     ]
    }
   ],
   "source": [
    "ITER = 2\n",
    "\n",
    "errors_rfc = []\n",
    "errors_rrf = []\n",
    "\n",
    "for iter in range(ITER):\n",
    "    # split data into training and testing dataset\n",
    "    X_train, X_test, y_train, y_test = train_test_split(trees.drop(['Cover_Type'], axis='columns'), trees.Cover_Type, test_size=232405)    \n",
    "    \n",
    "    # train regular RandomForestClassifier\n",
    "    rfc = RandomForestClassifier(n_estimators=100, min_samples_split=5, max_features='sqrt')\n",
    "    error_rfc = run_classification_experiment(rfc, X_train, y_train, X_test, y_test)\n",
    "    \n",
    "    # train refined RandomForestClassifier\n",
    "    rrf = RefinedRandomForest(rfc, C = 0.01, n_prunings = 0)\n",
    "    error_rrf = run_classification_experiment(rrf, X_train, y_train, X_test, y_test)\n",
    "    \n",
    "    # save errors for both models\n",
    "    errors_rfc.append(error_rfc)\n",
    "    errors_rrf.append(error_rrf)\n",
    "\n",
    "average_error_rfc = sum(errors_rfc)/ITER\n",
    "standard_deviation_rfc = np.std(errors_rfc)\n",
    "\n",
    "average_error_rrf = sum(errors_rrf)/ITER\n",
    "standard_deviation_rrf = np.std(errors_rrf)\n",
    "\n",
    "print('Regular Random Forest Classifier')\n",
    "print(f'Average error: {average_error_rfc}')\n",
    "print(f'Standard deviation: {standard_deviation_rfc}')\n",
    "\n",
    "print('Refined Random Forest Classifier')\n",
    "print(f'Average error: {average_error_rrf}')\n",
    "print(f'Standard deviation: {standard_deviation_rrf}')"
   ]
  },
  {
   "cell_type": "code",
   "execution_count": null,
   "id": "c1f1e1bf",
   "metadata": {},
   "outputs": [],
   "source": [
    "rrf.n_prunings = 1 # do one pruning in each iteration\n",
    "trainloss = []\n",
    "testloss = []\n",
    "nleaves = [sum(rrf.n_leaves_)] # remember number of leaves in each iteration\n",
    "for k in range(100):\n",
    "    rrf.fit(X_train, y_train) # fit and do 1 pruning\n",
    "    loss4tr = zero_one_loss(y_train, rrf.predict(X_train))\n",
    "    loss4te = zero_one_loss(y_test, rrf.predict(X_test))\n",
    "    trainloss.append(loss4tr)\n",
    "    testloss.append(loss4te)\n",
    "    nleaves.append(sum(rrf.n_leaves_))\n",
    "    print(\"Pruning {:02d}: train loss {:.4f}, test loss {:.4f}\".format(k+1, loss4tr, loss4te))\n",
    "    if loss4te > average_error_rfc:\n",
    "        break # stop when test error increases too much"
   ]
  },
  {
   "cell_type": "markdown",
   "id": "0e6cc43a",
   "metadata": {},
   "source": [
    "### 2.3 Regression: abalone\n",
    "\n",
    "Here comes the second part of our **Standard machine learning tasks** where refined random forest will be tested on regression problems specifically abalone and ailerons tasks which will be described in details as we move on. "
   ]
  },
  {
   "cell_type": "code",
   "execution_count": null,
   "id": "b0e4b8fb",
   "metadata": {},
   "outputs": [],
   "source": [
    "# Load data from URL using pandas read_csv method\n",
    "column_headers = ['Sex', 'Length', 'Diameter', 'Height', 'Whole weight', 'Shucked weight', 'Viscera weight', 'Shell weight', 'Rings']\n",
    "abalone = pd.read_csv('https://archive.ics.uci.edu/ml/machine-learning-databases/abalone/abalone.data', header=None, names=column_headers)\n",
    "abalone.head()"
   ]
  },
  {
   "cell_type": "code",
   "execution_count": null,
   "id": "b45c3276",
   "metadata": {},
   "outputs": [],
   "source": [
    "gender = {'I': 0, 'M': 1,'F': 2}\n",
    "abalone.Sex = [gender[item] for item in abalone.Sex]\n",
    "abalone.head()"
   ]
  },
  {
   "cell_type": "code",
   "execution_count": null,
   "id": "d5d410cd",
   "metadata": {},
   "outputs": [],
   "source": [
    "def run_regression_experiment(model, X_train, y_train, X_test, y_test):\n",
    "    model.fit(X_train, y_train)\n",
    "    \n",
    "    y_pred = model.predict(X_test)\n",
    "    error = mean_squared_error(y_test, y_pred)\n",
    "\n",
    "    return np.sqrt(error)"
   ]
  },
  {
   "cell_type": "code",
   "execution_count": null,
   "id": "b1b9acbd",
   "metadata": {},
   "outputs": [],
   "source": [
    "ITER = 2\n",
    "\n",
    "errors_rfc = []\n",
    "errors_rrf = []\n",
    "\n",
    "for iter in range(ITER):\n",
    "    # split data into training and testing dataset\n",
    "    X_train, X_test, y_train, y_test = train_test_split(abalone.drop(['Rings'], axis='columns'), abalone.Rings, test_size=1671)\n",
    "   \n",
    "    # train regular RandomForestRegressor\n",
    "    rfc = RandomForestRegressor(n_estimators=100, min_samples_split=5, max_features='sqrt')\n",
    "    error_rfc = run_regression_experiment(rfc, X_train, y_train, X_test, y_test)\n",
    "    \n",
    "    # train refined RandomForestClassifier\n",
    "    rrf = RefinedRandomForest(rfc, C = 0.01, n_prunings = 0)\n",
    "    error_rrf = run_regression_experiment(rrf, X_train, y_train, X_test, y_test)\n",
    "    \n",
    "    # save errors for both models\n",
    "    errors_rfc.append(error_rfc)\n",
    "    errors_rrf.append(error_rrf)\n",
    "\n",
    "average_error_rfc = sum(errors_rfc)/ITER\n",
    "standard_deviation_rfc = np.std(errors_rfc)\n",
    "\n",
    "average_error_rrf = sum(errors_rrf)/ITER\n",
    "standard_deviation_rrf = np.std(errors_rrf)\n",
    "\n",
    "print('Regular Random Forest Classifier')\n",
    "print(f'Average error: {average_error_rfc}')\n",
    "print(f'Standard deviation: {standard_deviation_rfc}')\n",
    "\n",
    "print('Refined Random Forest Classifier')\n",
    "print(f'Average error: {average_error_rrf}')\n",
    "print(f'Standard deviation: {standard_deviation_rrf}')"
   ]
  },
  {
   "cell_type": "code",
   "execution_count": null,
   "id": "8def5b95",
   "metadata": {},
   "outputs": [],
   "source": [
    "rrf.n_prunings = 1 # do one pruning in each iteration\n",
    "trainloss = []\n",
    "testloss = []\n",
    "nleaves = [sum(rrf.n_leaves_)] # remember number of leaves in each iteration\n",
    "for k in range(100):\n",
    "    rrf.fit(X_train, y_train) # fit and do 1 pruning\n",
    "    loss4tr = zero_one_loss(y_train, rrf.predict(X_train))\n",
    "    loss4te = zero_one_loss(y_test, rrf.predict(X_test))\n",
    "    trainloss.append(loss4tr)\n",
    "    testloss.append(loss4te)\n",
    "    nleaves.append(sum(rrf.n_leaves_))\n",
    "    print(\"Pruning {:02d}: train loss {:.4f}, test loss {:.4f}\".format(k+1, loss4tr, loss4te))\n",
    "    if loss4te > average_error_rfc:\n",
    "        break # stop when test error increases too much"
   ]
  },
  {
   "cell_type": "markdown",
   "id": "3d178ff3",
   "metadata": {},
   "source": [
    "### 2.4 Regression: ailerons"
   ]
  },
  {
   "cell_type": "code",
   "execution_count": null,
   "id": "bb0d278f",
   "metadata": {},
   "outputs": [],
   "source": [
    "ailerons = pd.read_csv(\"./ailerons/ailerons.csv\")\n",
    "ailerons.head()"
   ]
  },
  {
   "cell_type": "code",
   "execution_count": null,
   "id": "c7ed4fec",
   "metadata": {},
   "outputs": [],
   "source": [
    "ITER = 2\n",
    "\n",
    "errors_rfc = []\n",
    "errors_rrf = []\n",
    "\n",
    "for iter in range(ITER):\n",
    "    # split data into training and testing dataset\n",
    "    X_train, X_test, y_train, y_test = train_test_split(ailerons.drop(['goal'], axis='columns'), ailerons.goal, test_size=6596)\n",
    "    \n",
    "    # train regular RandomForestClassifier\n",
    "    rfc = RandomForestClassifier(n_estimators=100, min_samples_split=5, max_features='sqrt')\n",
    "    error_rfc = run_regression_experiment(rfc, X_train, y_train, X_test, y_test)\n",
    "    \n",
    "    # train refined RandomForestClassifier\n",
    "    rrf = RefinedRandomForest(rfc, C = 0.01, n_prunings = 0)\n",
    "    error_rrf = run_regression_experiment(rrf, X_train, y_train, X_test, y_test)\n",
    "    \n",
    "    # save errors for both models\n",
    "    errors_rfc.append(error_rfc)\n",
    "    errors_rrf.append(error_rrf)\n",
    "\n",
    "average_error_rfc = sum(errors_rfc)/ITER\n",
    "standard_deviation_rfc = np.std(errors_rfc)\n",
    "\n",
    "average_error_rrf = sum(errors_rrf)/ITER\n",
    "standard_deviation_rrf = np.std(errors_rrf)\n",
    "\n",
    "print('Regular Random Forest Classifier')\n",
    "print(f'Average error: {average_error_rfc}')\n",
    "print(f'Standard deviation: {standard_deviation_rfc}')\n",
    "\n",
    "print('Refined Random Forest Classifier')\n",
    "print(f'Average error: {average_error_rrf}')\n",
    "print(f'Standard deviation: {standard_deviation_rrf}')"
   ]
  },
  {
   "cell_type": "code",
   "execution_count": null,
   "id": "0aa35c02",
   "metadata": {},
   "outputs": [],
   "source": [
    "rrf.n_prunings = 1 # do one pruning in each iteration\n",
    "trainloss = []\n",
    "testloss = []\n",
    "nleaves = [sum(rrf.n_leaves_)] # remember number of leaves in each iteration\n",
    "for k in range(100):\n",
    "    rrf.fit(X_train, y_train) # fit and do 1 pruning\n",
    "    loss4tr = zero_one_loss(y_train, rrf.predict(X_train))\n",
    "    loss4te = zero_one_loss(y_test, rrf.predict(X_test))\n",
    "    trainloss.append(loss4tr)\n",
    "    testloss.append(loss4te)\n",
    "    nleaves.append(sum(rrf.n_leaves_))\n",
    "    print(\"Pruning {:02d}: train loss {:.4f}, test loss {:.4f}\".format(k+1, loss4tr, loss4te))\n",
    "    if loss4te > average_error_rfc:\n",
    "        break # stop when test error increases too much"
   ]
  },
  {
   "cell_type": "markdown",
   "id": "4bd5c098",
   "metadata": {},
   "source": [
    "### 3. Application II: human age regression"
   ]
  },
  {
   "cell_type": "code",
   "execution_count": null,
   "id": "f0ac2a2b",
   "metadata": {},
   "outputs": [],
   "source": []
  }
 ],
 "metadata": {
  "kernelspec": {
   "display_name": "Python 3",
   "language": "python",
   "name": "python3"
  },
  "language_info": {
   "codemirror_mode": {
    "name": "ipython",
    "version": 3
   },
   "file_extension": ".py",
   "mimetype": "text/x-python",
   "name": "python",
   "nbconvert_exporter": "python",
   "pygments_lexer": "ipython3",
   "version": "3.8.8"
  }
 },
 "nbformat": 4,
 "nbformat_minor": 5
}
